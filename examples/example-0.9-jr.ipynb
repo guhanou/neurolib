{
 "cells": [
  {
   "cell_type": "markdown",
   "id": "b0890d5e",
   "metadata": {},
   "source": [
    "# The Jansen-Rit Model\n",
    "\n",
    "In this notebook, the basic use of the implementation of the Jansen-Rit (`jr`) model is presented. \n",
    "\n",
    "In the `jr` model, the activity of a particular brain region is defined..."
   ]
  },
  {
   "cell_type": "code",
   "execution_count": null,
   "id": "e6b0760a",
   "metadata": {},
   "outputs": [],
   "source": [
    "# change to the root directory of the project\n",
    "import os\n",
    "if os.getcwd().split(\"/\")[-1] == \"examples\":\n",
    "    os.chdir('..')"
   ]
  },
  {
   "cell_type": "code",
   "execution_count": null,
   "id": "d98f7f89",
   "metadata": {},
   "outputs": [],
   "source": [
    "%load_ext autoreload\n",
    "%autoreload 2"
   ]
  },
  {
   "cell_type": "code",
   "execution_count": null,
   "id": "4a38250b",
   "metadata": {},
   "outputs": [],
   "source": [
    "import matplotlib.pyplot as plt\n",
    "import numpy as np\n",
    "import glob\n",
    "\n",
    "from neurolib.models.jr import JRModel\n",
    "\n",
    "import neurolib.utils.loadData as ld\n",
    "import neurolib.utils.functions as func\n",
    "\n",
    "# a nice color map\n",
    "plt.rcParams['image.cmap'] = 'plasma'"
   ]
  },
  {
   "cell_type": "markdown",
   "id": "25b7e123",
   "metadata": {},
   "source": [
    "## Bifurcation diagram"
   ]
  },
  {
   "cell_type": "code",
   "execution_count": null,
   "id": "2bfa8919",
   "metadata": {},
   "outputs": [],
   "source": [
    "model = JRModel()\n",
    "model.params['duration'] = 4.0*1000"
   ]
  },
  {
   "cell_type": "markdown",
   "id": "a4b98c8e",
   "metadata": {},
   "source": [
    "Let's draw a simple one-dimensional bifurcation diagram of this model to orient ourselves in the parameter space"
   ]
  },
  {
   "cell_type": "code",
   "execution_count": null,
   "id": "f753b4dc",
   "metadata": {},
   "outputs": [],
   "source": [
    "max_y0 = []\n",
    "min_y0 = []\n",
    "max_y1 = []\n",
    "min_y1 = []\n",
    "max_y2 = []\n",
    "min_y2 = []\n",
    "\n",
    "model.params['sigma_ou'] = 0.0\n",
    "\n",
    "# these are the different input values that we want to scan\n",
    "p_inputs = np.linspace(-0.6, 1, 100)\n",
    "for ext_input in p_inputs:\n",
    "    model.params['ext_input'] = ext_input\n",
    "    model.run()\n",
    "    max_y0.append(np.max(model.y0[0, -int(1000/model.params['dt']):]))\n",
    "    min_y0.append(np.min(model.y0[0, -int(1000/model.params['dt']):]))\n",
    "    max_y1.append(np.max(model.y1[0, -int(1000/model.params['dt']):]))\n",
    "    min_y1.append(np.min(model.y1[0, -int(1000/model.params['dt']):]))\n",
    "    max_y2.append(np.max(model.y2[0, -int(1000/model.params['dt']):]))\n",
    "    min_y2.append(np.min(model.y2[0, -int(1000/model.params['dt']):]))"
   ]
  },
  {
   "cell_type": "code",
   "execution_count": null,
   "id": "6c065f82",
   "metadata": {},
   "outputs": [],
   "source": [
    "plt.plot(p_inputs, max_y0, c='k', lw = 2)\n",
    "plt.plot(p_inputs, min_y0, c='b', lw = 2)\n",
    "plt.title(\"Bifurcation diagram of y0 output\")\n",
    "plt.xlabel(\"Input to p \")\n",
    "plt.ylabel(\"Min / max y0 [mV]\")"
   ]
  },
  {
   "cell_type": "code",
   "execution_count": null,
   "id": "074f8fa0",
   "metadata": {},
   "outputs": [],
   "source": [
    "plt.plot(p_inputs, max_y1, c='r', lw = 2)\n",
    "plt.plot(p_inputs, min_y1, c='g', lw = 2)\n",
    "plt.title(\"Bifurcation diagram of y1 output\")\n",
    "plt.xlabel(\"Input to p\")\n",
    "plt.ylabel(\"Min / max y0 [mV]\")"
   ]
  },
  {
   "cell_type": "code",
   "execution_count": null,
   "id": "c254d256",
   "metadata": {},
   "outputs": [],
   "source": [
    "plt.plot(p_inputs, max_y2, c='k', lw = 2)\n",
    "plt.plot(p_inputs, min_y2, c='b', lw = 2)\n",
    "plt.title(\"Bifurcation diagram of y2 output\")\n",
    "plt.xlabel(\"Input to p\")\n",
    "plt.ylabel(\"Min / max y2 [mV]\")"
   ]
  },
  {
   "cell_type": "markdown",
   "id": "06534e16",
   "metadata": {},
   "source": [
    "## Single node simulation"
   ]
  },
  {
   "cell_type": "code",
   "execution_count": null,
   "id": "4eb29bad",
   "metadata": {},
   "outputs": [],
   "source": [
    "model = JRModel()\n",
    "model.params['duration'] = 10000\n",
    "model.params['sigma_ou'] = 0.14\n",
    "model.run()"
   ]
  },
  {
   "cell_type": "code",
   "execution_count": null,
   "id": "269bd1d1",
   "metadata": {},
   "outputs": [],
   "source": [
    "plt.plot(model.t, model.y0.T, c='k', lw = 2)\n",
    "plt.xlabel(\"t [ms]\")\n",
    "plt.ylabel(\"Activity [kHz]\")"
   ]
  },
  {
   "cell_type": "code",
   "execution_count": null,
   "id": "3ad8b5e5",
   "metadata": {},
   "outputs": [],
   "source": [
    "plt.plot(model.t, model.y1.T - model.y2.T, c='k', lw = 2)\n",
    "plt.title(\"Local Field Potential\")\n",
    "plt.xlabel(\"t [ms]\")\n",
    "plt.ylabel(\"LFP [mV]\")"
   ]
  },
  {
   "cell_type": "markdown",
   "id": "70bb950f",
   "metadata": {},
   "source": [
    "## Brain network"
   ]
  },
  {
   "cell_type": "code",
   "execution_count": null,
   "id": "b92d85af",
   "metadata": {},
   "outputs": [],
   "source": [
    "from neurolib.utils.loadData import Dataset\n",
    "\n",
    "ds = Dataset(\"hcp\")"
   ]
  },
  {
   "cell_type": "code",
   "execution_count": null,
   "id": "5fa1912c",
   "metadata": {},
   "outputs": [],
   "source": [
    "model = JRModel(Cmat = ds.Cmat, Dmat = ds.Dmat)"
   ]
  },
  {
   "cell_type": "code",
   "execution_count": null,
   "id": "c343e847",
   "metadata": {},
   "outputs": [],
   "source": [
    "model.params['ext_input'] = 0.65\n",
    "model.params['signalV'] = 0\n",
    "model.params['duration'] = 20 * 1000\n",
    "model.params['sigma_ou'] = 0.14\n",
    "\n",
    "model.run()"
   ]
  },
  {
   "cell_type": "code",
   "execution_count": null,
   "id": "4b2f8ff8",
   "metadata": {},
   "outputs": [],
   "source": [
    "fig, axs = plt.subplots(1, 2, figsize=(10, 5))\n",
    "axs[0].imshow(func.fc(model.y0[:, -10000:]))\n",
    "axs[1].plot(model.t, model.y0[::5, :].T, alpha=0.8)\n",
    "axs[1].set_xlim(1000, 3000)\n",
    "model.y0.shape"
   ]
  },
  {
   "cell_type": "code",
   "execution_count": null,
   "id": "60d6710a",
   "metadata": {},
   "outputs": [],
   "source": [
    "scores = [func.matrix_correlation(func.fc(model.y0[:, -int(5000/model.params['dt']):]), fcemp) for fcemp in ds.FCs]\n",
    "print(\"Correlation per subject:\", [f\"{s:.2}\" for s in scores])\n",
    "print(\"Mean FC/FC correlation: {:.2f}\".format(np.mean(scores)))"
   ]
  }
 ],
 "metadata": {
  "kernelspec": {
   "display_name": "Python 3 (ipykernel)",
   "language": "python",
   "name": "python3"
  },
  "language_info": {
   "codemirror_mode": {
    "name": "ipython",
    "version": 3
   },
   "file_extension": ".py",
   "mimetype": "text/x-python",
   "name": "python",
   "nbconvert_exporter": "python",
   "pygments_lexer": "ipython3",
   "version": "3.9.7"
  }
 },
 "nbformat": 4,
 "nbformat_minor": 5
}
