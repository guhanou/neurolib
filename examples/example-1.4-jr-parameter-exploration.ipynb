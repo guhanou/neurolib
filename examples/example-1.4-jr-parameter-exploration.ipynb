{
 "cells": [
  {
   "cell_type": "code",
   "execution_count": null,
   "metadata": {},
   "outputs": [],
   "source": [
    "# change to the root directory of the project\n",
    "import os\n",
    "if os.getcwd().split(\"/\")[-1] == \"examples\":\n",
    "    os.chdir('..')"
   ]
  },
  {
   "cell_type": "code",
   "execution_count": null,
   "metadata": {},
   "outputs": [],
   "source": [
    "%load_ext autoreload\n",
    "%autoreload 2"
   ]
  },
  {
   "cell_type": "code",
   "execution_count": null,
   "metadata": {},
   "outputs": [],
   "source": [
    "import matplotlib.pyplot as plt\n",
    "import numpy as np\n",
    "import glob\n",
    "from scipy.signal import find_peaks\n",
    "\n",
    "from neurolib.models.jr import JRModel\n",
    "\n",
    "import neurolib.utils.loadData as ld\n",
    "import neurolib.utils.functions as func\n",
    "\n",
    "# a nice color map\n",
    "plt.rcParams['image.cmap'] = 'plasma'"
   ]
  },
  {
   "cell_type": "code",
   "execution_count": null,
   "metadata": {},
   "outputs": [],
   "source": [
    "model = JRModel()\n",
    "model.params['duration'] = 5.0*1000"
   ]
  },
  {
   "cell_type": "markdown",
   "metadata": {},
   "source": [
    "Bifurcation Diagram"
   ]
  },
  {
   "cell_type": "code",
   "execution_count": null,
   "metadata": {},
   "outputs": [],
   "source": [
    "max_y0 = []\n",
    "min_y0 = []\n",
    "max_y1 = []\n",
    "min_y1 = []\n",
    "max_y2 = []\n",
    "min_y2 = []\n",
    "y0_frequencies = []\n",
    "y1_frequencies = []\n",
    "y2_frequencies = []\n",
    "\n",
    "\n",
    "model.params['sigma_ou'] = 0.0\n",
    "\n",
    "def calculateMeanFrequency(model, x):\n",
    "    if len(x) > 1:\n",
    "        # Calculate the average period between peaks\n",
    "        period = np.mean(np.diff(model.t[x]))\n",
    "        # Convert period to frequency\n",
    "        frequency = 1 / period\n",
    "        return frequency\n",
    "    else:\n",
    "        return 0\n",
    "\n",
    "# these are the different input values that we want to scan\n",
    "p_inputs = np.linspace(-0.6, 1, 100)\n",
    "for ext_input in p_inputs:\n",
    "    model.params['ext_input'] = ext_input\n",
    "    model.run()\n",
    "    max_y0.append(np.max(model.y0[0, -int(1000/model.params['dt']):]))\n",
    "    min_y0.append(np.min(model.y0[0, -int(1000/model.params['dt']):]))\n",
    "    max_y1.append(np.max(model.y1[0, -int(1000/model.params['dt']):]))\n",
    "    min_y1.append(np.min(model.y1[0, -int(1000/model.params['dt']):]))\n",
    "    max_y2.append(np.max(model.y2[0, -int(1000/model.params['dt']):]))\n",
    "    min_y2.append(np.min(model.y2[0, -int(1000/model.params['dt']):]))\n",
    "    y0_peaks, _ = find_peaks(model.y0[0, -int(3000/model.params['dt']):])\n",
    "    y1_peaks, _ = find_peaks(model.y1[0, -int(3000/model.params['dt']):])\n",
    "    y2_peaks, _ = find_peaks(model.y2[0, -int(3000/model.params['dt']):])\n",
    "\n",
    "    y0_frequencies.append(calculateMeanFrequency(model, y0_peaks))\n",
    "    y1_frequencies.append(calculateMeanFrequency(model, y1_peaks))\n",
    "    y2_frequencies.append(calculateMeanFrequency(model, y2_peaks))"
   ]
  },
  {
   "cell_type": "code",
   "execution_count": null,
   "metadata": {},
   "outputs": [],
   "source": [
    "plt.plot(p_inputs, y0_frequencies, c='k', lw=2)\n",
    "#plt.plot(p_inputs, y1_frequencies, c='b', lw=2)\n",
    "#plt.plot(p_inputs, y2_frequencies, c='r', lw=2)\n",
    "plt.xlabel(\"External Input\")\n",
    "plt.ylabel(\"Frequency of Oscillations [Hz]\")\n",
    "plt.title(\"Frequency of Oscillations vs. External Input\")\n",
    "plt.show()"
   ]
  },
  {
   "cell_type": "code",
   "execution_count": null,
   "metadata": {},
   "outputs": [],
   "source": [
    "plt.plot(p_inputs, max_y0, c='k', lw = 2)\n",
    "plt.plot(p_inputs, min_y0, c='b', lw = 2)\n",
    "plt.title(\"Bifurcation diagram of y0 output\")\n",
    "plt.xlabel(\"Input to p\")\n",
    "plt.ylabel(\"Min / max y0 [mV]\")"
   ]
  },
  {
   "cell_type": "code",
   "execution_count": null,
   "metadata": {},
   "outputs": [],
   "source": [
    "plt.plot(p_inputs, max_y1, c='k', lw = 2)\n",
    "plt.plot(p_inputs, min_y1, c='b', lw = 2)\n",
    "plt.title(\"Bifurcation diagram of y1 output\")\n",
    "plt.xlabel(\"Input to p\")\n",
    "plt.ylabel(\"Min / max y1 [mV]\")"
   ]
  },
  {
   "cell_type": "code",
   "execution_count": null,
   "metadata": {},
   "outputs": [],
   "source": [
    "plt.plot(p_inputs, max_y2, c='k', lw = 2)\n",
    "plt.plot(p_inputs, min_y2, c='b', lw = 2)\n",
    "plt.title(\"Bifurcation diagram of y2 output\")\n",
    "plt.xlabel(\"Input to p\")\n",
    "plt.ylabel(\"Min / max y2 [mV]\")"
   ]
  },
  {
   "cell_type": "code",
   "execution_count": null,
   "metadata": {},
   "outputs": [],
   "source": [
    "plt.plot(p_inputs, max_y1, c='k', lw = 2)\n",
    "plt.plot(p_inputs, min_y1, c='k', lw = 2)\n",
    "plt.plot(p_inputs, max_y2, c='b', lw = 2)\n",
    "plt.plot(p_inputs, min_y2, c='b', lw = 2)\n",
    "plt.title(\"Bifurcation diagram of y1 & y2 output\")\n",
    "plt.xlabel(\"Input to p\")\n",
    "plt.ylabel(\"Min / max y1 & y2 [mV]\")"
   ]
  },
  {
   "cell_type": "markdown",
   "metadata": {},
   "source": [
    "Fazit: All output variables have their jump and fall at the same input \n",
    "\n",
    "Y0 & Y2: min values remain flat after jump (close to 0)\n",
    "max values for y0 mainly constant after jump\n",
    "max values for y2 minimal increase after jump\n",
    "\n",
    "Y1: linear rising of max values after jump\n",
    "linear rising of min values starting with larger input values\n",
    "____\n",
    "\n",
    "jump: Around -0.209\n",
    "Fall: Around 0.73\n"
   ]
  },
  {
   "cell_type": "markdown",
   "metadata": {},
   "source": [
    "Single Node"
   ]
  },
  {
   "cell_type": "code",
   "execution_count": null,
   "metadata": {},
   "outputs": [],
   "source": [
    "model = JRModel()\n",
    "model.params['duration'] = 10000"
   ]
  },
  {
   "cell_type": "code",
   "execution_count": null,
   "metadata": {},
   "outputs": [],
   "source": [
    "y0_values = []\n",
    "y1_values = []\n",
    "y2_values = []\n",
    "p_inputs = [-0.6, 0.0, 1.0]\n",
    "for ext_input in p_inputs:\n",
    "    model.params['ext_input'] = ext_input\n",
    "    model.run()\n",
    "    y0_values.append(model.y0.T)\n",
    "    y1_values.append(model.y1.T)\n",
    "    y2_values.append(model.y2.T)"
   ]
  },
  {
   "cell_type": "code",
   "execution_count": null,
   "metadata": {},
   "outputs": [],
   "source": [
    "plt.plot(model.t, y0_values[0], c='r', lw = 2)\n",
    "plt.plot(model.t, y0_values[1], c='k', lw = 2)\n",
    "plt.plot(model.t, y0_values[2], c='b', lw = 2)\n",
    "plt.xlabel(\"t [ms]\")\n",
    "plt.ylabel(\"Activity y0 [mV]\")"
   ]
  },
  {
   "cell_type": "code",
   "execution_count": null,
   "metadata": {},
   "outputs": [],
   "source": [
    "\n",
    "plt.plot(model.t, y1_values[0], c='r', lw = 2)\n",
    "plt.plot(model.t, y1_values[1], c='k', lw = 2)\n",
    "plt.plot(model.t, y1_values[2], c='b', lw = 2)\n",
    "plt.xlabel(\"t [ms]\")\n",
    "plt.ylabel(\"Activity y1 [mV]\")"
   ]
  },
  {
   "cell_type": "code",
   "execution_count": null,
   "metadata": {},
   "outputs": [],
   "source": [
    "plt.plot(model.t, y2_values[0], c='r', lw = 2)\n",
    "plt.plot(model.t, y2_values[1], c='k', lw = 2)\n",
    "plt.plot(model.t, y2_values[2], c='b', lw = 2)\n",
    "plt.xlabel(\"t [ms]\")\n",
    "plt.ylabel(\"Activity y2 [mV]\")"
   ]
  },
  {
   "cell_type": "markdown",
   "metadata": {},
   "source": [
    "Fazit: Same state variable behavior (upstate, downstate, oszillation) for same input values "
   ]
  }
 ],
 "metadata": {
  "kernelspec": {
   "display_name": "venv",
   "language": "python",
   "name": "python3"
  },
  "language_info": {
   "codemirror_mode": {
    "name": "ipython",
    "version": 3
   },
   "file_extension": ".py",
   "mimetype": "text/x-python",
   "name": "python",
   "nbconvert_exporter": "python",
   "pygments_lexer": "ipython3",
   "version": "3.9.7"
  }
 },
 "nbformat": 4,
 "nbformat_minor": 2
}
